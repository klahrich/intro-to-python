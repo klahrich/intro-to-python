{
 "cells": [
  {
   "cell_type": "code",
   "execution_count": 1,
   "metadata": {},
   "outputs": [],
   "source": [
    "import glob\n",
    "import pandas as pd"
   ]
  },
  {
   "cell_type": "code",
   "execution_count": 2,
   "metadata": {},
   "outputs": [],
   "source": [
    "csv_files = glob.glob('data/*.csv')"
   ]
  },
  {
   "cell_type": "code",
   "execution_count": 3,
   "metadata": {},
   "outputs": [
    {
     "data": {
      "text/plain": [
       "['data\\\\car_data_0.csv',\n",
       " 'data\\\\car_data_1.csv',\n",
       " 'data\\\\car_data_2.csv',\n",
       " 'data\\\\car_data_3.csv',\n",
       " 'data\\\\car_data_4.csv',\n",
       " 'data\\\\car_data_5.csv',\n",
       " 'data\\\\car_data_6.csv',\n",
       " 'data\\\\car_data_7.csv',\n",
       " 'data\\\\car_data_8.csv',\n",
       " 'data\\\\car_data_9.csv']"
      ]
     },
     "execution_count": 3,
     "metadata": {},
     "output_type": "execute_result"
    }
   ],
   "source": [
    "csv_files"
   ]
  },
  {
   "cell_type": "markdown",
   "metadata": {},
   "source": [
    "#### Maximum mileage of cars with year 2016 or more"
   ]
  },
  {
   "cell_type": "code",
   "execution_count": 16,
   "metadata": {},
   "outputs": [],
   "source": [
    "mileage_data_list = []\n",
    "\n",
    "for file in csv_files:\n",
    "    data = pd.read_csv(file)\n",
    "    data_2016_or_more = data[data.year >= 2016]\n",
    "    mileage_data_list.append(data_2016_or_more[['car_id', 'year', 'mileage']].iloc[[0]])\n",
    "    \n",
    "mileage_df = pd.concat(mileage_data_list, axis=0)"
   ]
  },
  {
   "cell_type": "code",
   "execution_count": 19,
   "metadata": {},
   "outputs": [
    {
     "data": {
      "text/html": [
       "<div>\n",
       "<style scoped>\n",
       "    .dataframe tbody tr th:only-of-type {\n",
       "        vertical-align: middle;\n",
       "    }\n",
       "\n",
       "    .dataframe tbody tr th {\n",
       "        vertical-align: top;\n",
       "    }\n",
       "\n",
       "    .dataframe thead th {\n",
       "        text-align: right;\n",
       "    }\n",
       "</style>\n",
       "<table border=\"1\" class=\"dataframe\">\n",
       "  <thead>\n",
       "    <tr style=\"text-align: right;\">\n",
       "      <th></th>\n",
       "      <th>car_id</th>\n",
       "      <th>year</th>\n",
       "      <th>mileage</th>\n",
       "    </tr>\n",
       "  </thead>\n",
       "  <tbody>\n",
       "    <tr>\n",
       "      <th>1786</th>\n",
       "      <td>242</td>\n",
       "      <td>2017</td>\n",
       "      <td>95719.952752</td>\n",
       "    </tr>\n",
       "    <tr>\n",
       "      <th>150</th>\n",
       "      <td>191</td>\n",
       "      <td>2018</td>\n",
       "      <td>85868.877446</td>\n",
       "    </tr>\n",
       "    <tr>\n",
       "      <th>272</th>\n",
       "      <td>279</td>\n",
       "      <td>2016</td>\n",
       "      <td>84795.282760</td>\n",
       "    </tr>\n",
       "    <tr>\n",
       "      <th>630</th>\n",
       "      <td>863</td>\n",
       "      <td>2018</td>\n",
       "      <td>77954.561597</td>\n",
       "    </tr>\n",
       "    <tr>\n",
       "      <th>367</th>\n",
       "      <td>248</td>\n",
       "      <td>2016</td>\n",
       "      <td>72368.171622</td>\n",
       "    </tr>\n",
       "    <tr>\n",
       "      <th>504</th>\n",
       "      <td>452</td>\n",
       "      <td>2016</td>\n",
       "      <td>55315.514292</td>\n",
       "    </tr>\n",
       "    <tr>\n",
       "      <th>550</th>\n",
       "      <td>402</td>\n",
       "      <td>2017</td>\n",
       "      <td>25425.724424</td>\n",
       "    </tr>\n",
       "    <tr>\n",
       "      <th>126</th>\n",
       "      <td>610</td>\n",
       "      <td>2016</td>\n",
       "      <td>16943.937511</td>\n",
       "    </tr>\n",
       "    <tr>\n",
       "      <th>0</th>\n",
       "      <td>636</td>\n",
       "      <td>2018</td>\n",
       "      <td>11957.484354</td>\n",
       "    </tr>\n",
       "    <tr>\n",
       "      <th>0</th>\n",
       "      <td>460</td>\n",
       "      <td>2018</td>\n",
       "      <td>10673.740713</td>\n",
       "    </tr>\n",
       "  </tbody>\n",
       "</table>\n",
       "</div>"
      ],
      "text/plain": [
       "      car_id  year       mileage\n",
       "1786     242  2017  95719.952752\n",
       "150      191  2018  85868.877446\n",
       "272      279  2016  84795.282760\n",
       "630      863  2018  77954.561597\n",
       "367      248  2016  72368.171622\n",
       "504      452  2016  55315.514292\n",
       "550      402  2017  25425.724424\n",
       "126      610  2016  16943.937511\n",
       "0        636  2018  11957.484354\n",
       "0        460  2018  10673.740713"
      ]
     },
     "execution_count": 19,
     "metadata": {},
     "output_type": "execute_result"
    }
   ],
   "source": [
    "mileage_df.sort_values('mileage', ascending=False)"
   ]
  },
  {
   "cell_type": "markdown",
   "metadata": {},
   "source": [
    "#### Which car travelled the most distance in x axis ?"
   ]
  },
  {
   "cell_type": "code",
   "execution_count": 54,
   "metadata": {},
   "outputs": [],
   "source": [
    "distance_data_list = []\n",
    "\n",
    "for file in csv_files:\n",
    "    data = pd.read_csv(file)\n",
    "    distances = data.groupby('car_id').agg(dist_x=('position_x', lambda x: x.diff().fillna(0).abs().sum())).reset_index()\n",
    "    distance_data_list.append(distances)"
   ]
  },
  {
   "cell_type": "code",
   "execution_count": 55,
   "metadata": {},
   "outputs": [],
   "source": [
    "all_distances = pd.concat(distance_data_list, axis=0)"
   ]
  },
  {
   "cell_type": "code",
   "execution_count": 57,
   "metadata": {},
   "outputs": [
    {
     "data": {
      "text/html": [
       "<div>\n",
       "<style scoped>\n",
       "    .dataframe tbody tr th:only-of-type {\n",
       "        vertical-align: middle;\n",
       "    }\n",
       "\n",
       "    .dataframe tbody tr th {\n",
       "        vertical-align: top;\n",
       "    }\n",
       "\n",
       "    .dataframe thead th {\n",
       "        text-align: right;\n",
       "    }\n",
       "</style>\n",
       "<table border=\"1\" class=\"dataframe\">\n",
       "  <thead>\n",
       "    <tr style=\"text-align: right;\">\n",
       "      <th></th>\n",
       "      <th>dist_x</th>\n",
       "    </tr>\n",
       "    <tr>\n",
       "      <th>car_id</th>\n",
       "      <th></th>\n",
       "    </tr>\n",
       "  </thead>\n",
       "  <tbody>\n",
       "    <tr>\n",
       "      <th>255</th>\n",
       "      <td>5599.778868</td>\n",
       "    </tr>\n",
       "    <tr>\n",
       "      <th>768</th>\n",
       "      <td>5030.847064</td>\n",
       "    </tr>\n",
       "    <tr>\n",
       "      <th>682</th>\n",
       "      <td>5029.349498</td>\n",
       "    </tr>\n",
       "    <tr>\n",
       "      <th>935</th>\n",
       "      <td>4960.019765</td>\n",
       "    </tr>\n",
       "    <tr>\n",
       "      <th>299</th>\n",
       "      <td>4678.708286</td>\n",
       "    </tr>\n",
       "    <tr>\n",
       "      <th>...</th>\n",
       "      <td>...</td>\n",
       "    </tr>\n",
       "    <tr>\n",
       "      <th>372</th>\n",
       "      <td>172.572001</td>\n",
       "    </tr>\n",
       "    <tr>\n",
       "      <th>303</th>\n",
       "      <td>169.990424</td>\n",
       "    </tr>\n",
       "    <tr>\n",
       "      <th>73</th>\n",
       "      <td>148.785635</td>\n",
       "    </tr>\n",
       "    <tr>\n",
       "      <th>67</th>\n",
       "      <td>121.406486</td>\n",
       "    </tr>\n",
       "    <tr>\n",
       "      <th>582</th>\n",
       "      <td>55.959250</td>\n",
       "    </tr>\n",
       "  </tbody>\n",
       "</table>\n",
       "<p>999 rows × 1 columns</p>\n",
       "</div>"
      ],
      "text/plain": [
       "             dist_x\n",
       "car_id             \n",
       "255     5599.778868\n",
       "768     5030.847064\n",
       "682     5029.349498\n",
       "935     4960.019765\n",
       "299     4678.708286\n",
       "...             ...\n",
       "372      172.572001\n",
       "303      169.990424\n",
       "73       148.785635\n",
       "67       121.406486\n",
       "582       55.959250\n",
       "\n",
       "[999 rows x 1 columns]"
      ]
     },
     "execution_count": 57,
     "metadata": {},
     "output_type": "execute_result"
    }
   ],
   "source": [
    "all_distances.groupby('car_id').sum().sort_values('dist_x', ascending=False)"
   ]
  }
 ],
 "metadata": {
  "kernelspec": {
   "display_name": "Python 3",
   "language": "python",
   "name": "python3"
  },
  "language_info": {
   "codemirror_mode": {
    "name": "ipython",
    "version": 3
   },
   "file_extension": ".py",
   "mimetype": "text/x-python",
   "name": "python",
   "nbconvert_exporter": "python",
   "pygments_lexer": "ipython3",
   "version": "3.7.6"
  }
 },
 "nbformat": 4,
 "nbformat_minor": 4
}
