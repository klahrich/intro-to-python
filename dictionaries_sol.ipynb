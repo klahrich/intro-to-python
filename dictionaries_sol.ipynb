{
 "cells": [
  {
   "cell_type": "code",
   "execution_count": 8,
   "metadata": {},
   "outputs": [],
   "source": [
    "users = {\n",
    "  'hakim': '123',\n",
    "  'sheila': 'passwd',\n",
    "  'ciao': 'mypass'\n",
    "}"
   ]
  },
  {
   "cell_type": "code",
   "execution_count": 11,
   "metadata": {},
   "outputs": [],
   "source": [
    "def login(user, password):\n",
    "    \"\"\"\n",
    "    Returns:\n",
    "    bool: True if user/password is in users, False otherwise\n",
    "    \"\"\"\n",
    "    if user not in users.keys():\n",
    "        return False\n",
    "    if users[user] != password:\n",
    "        return False\n",
    "    return True    "
   ]
  },
  {
   "cell_type": "code",
   "execution_count": 12,
   "metadata": {},
   "outputs": [
    {
     "name": "stdout",
     "output_type": "stream",
     "text": [
      "True\n",
      "False\n",
      "False\n"
     ]
    }
   ],
   "source": [
    "print(login('hakim', '123')) # True\n",
    "print(login('hakim', '321')) # False\n",
    "print(login('sheila', '123')) # False"
   ]
  }
 ],
 "metadata": {
  "kernelspec": {
   "display_name": "Python 3",
   "language": "python",
   "name": "python3"
  },
  "language_info": {
   "codemirror_mode": {
    "name": "ipython",
    "version": 3
   },
   "file_extension": ".py",
   "mimetype": "text/x-python",
   "name": "python",
   "nbconvert_exporter": "python",
   "pygments_lexer": "ipython3",
   "version": "3.7.6"
  }
 },
 "nbformat": 4,
 "nbformat_minor": 4
}
