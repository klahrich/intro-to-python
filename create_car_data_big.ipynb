{
 "cells": [
  {
   "cell_type": "code",
   "execution_count": 1,
   "metadata": {},
   "outputs": [
    {
     "data": {
      "text/plain": [
       "['data\\\\car_dall_full.csv',\n",
       " 'data\\\\car_data_0.csv',\n",
       " 'data\\\\car_data_1.csv',\n",
       " 'data\\\\car_data_2.csv',\n",
       " 'data\\\\car_data_3.csv',\n",
       " 'data\\\\car_data_4.csv',\n",
       " 'data\\\\car_data_5.csv',\n",
       " 'data\\\\car_data_6.csv',\n",
       " 'data\\\\car_data_7.csv',\n",
       " 'data\\\\car_data_8.csv',\n",
       " 'data\\\\car_data_9.csv']"
      ]
     },
     "execution_count": 1,
     "metadata": {},
     "output_type": "execute_result"
    }
   ],
   "source": [
    "import glob\n",
    "import pandas as pd\n",
    "\n",
    "csv_files = glob.glob('data/*.csv')\n",
    "\n",
    "csv_files"
   ]
  },
  {
   "cell_type": "code",
   "execution_count": 5,
   "metadata": {},
   "outputs": [],
   "source": [
    "data_list = []\n",
    "\n",
    "for file in csv_files:\n",
    "    data = pd.read_csv(file)\n",
    "    data_list.append(data)"
   ]
  },
  {
   "cell_type": "code",
   "execution_count": 27,
   "metadata": {},
   "outputs": [],
   "source": [
    "data_full = pd.concat(data_list, axis=0)"
   ]
  },
  {
   "cell_type": "code",
   "execution_count": 34,
   "metadata": {},
   "outputs": [
    {
     "name": "stdout",
     "output_type": "stream",
     "text": [
      "77.59 MB\n"
     ]
    }
   ],
   "source": [
    "import sys\n",
    "\n",
    "print(\"{} MB\".format(round(sys.getsizeof(data_full) / 1024**2, 2)))"
   ]
  },
  {
   "cell_type": "code",
   "execution_count": 29,
   "metadata": {},
   "outputs": [],
   "source": [
    "data_list_big = [data_full] * 20"
   ]
  },
  {
   "cell_type": "code",
   "execution_count": 30,
   "metadata": {},
   "outputs": [],
   "source": [
    "big_data = pd.concat(data_list_big, axis=0)"
   ]
  },
  {
   "cell_type": "code",
   "execution_count": 33,
   "metadata": {},
   "outputs": [
    {
     "name": "stdout",
     "output_type": "stream",
     "text": [
      "1.52 GB\n"
     ]
    }
   ],
   "source": [
    "print(\"{} GB\".format(round(sys.getsizeof(big_data) / 1024**3, 2)))"
   ]
  },
  {
   "cell_type": "code",
   "execution_count": 35,
   "metadata": {},
   "outputs": [],
   "source": [
    "big_data.to_csv(\"data\\\\car_data_big.csv\", index=False)"
   ]
  }
 ],
 "metadata": {
  "kernelspec": {
   "display_name": "Python 3",
   "language": "python",
   "name": "python3"
  },
  "language_info": {
   "codemirror_mode": {
    "name": "ipython",
    "version": 3
   },
   "file_extension": ".py",
   "mimetype": "text/x-python",
   "name": "python",
   "nbconvert_exporter": "python",
   "pygments_lexer": "ipython3",
   "version": "3.7.6"
  }
 },
 "nbformat": 4,
 "nbformat_minor": 4
}
