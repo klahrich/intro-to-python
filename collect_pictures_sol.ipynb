{
 "cells": [
  {
   "cell_type": "code",
   "execution_count": null,
   "metadata": {},
   "outputs": [],
   "source": [
    "animal_types = ['cat', 'dog', 'fish', 'elephant', 'tiger']"
   ]
  },
  {
   "cell_type": "code",
   "execution_count": null,
   "metadata": {},
   "outputs": [],
   "source": [
    "from collections import defaultdict\n",
    "from random import choice #optional\n",
    "\n",
    "def count_pictures(types):\n",
    "    \"\"\"\n",
    "    Generate pictures of different types and count how many pictures we collect before getting at least 1 of each type.\n",
    "    \n",
    "    Args:\n",
    "        types (list): the different types of pictures available\n",
    "    \n",
    "    Returns:\n",
    "        int: total number of collected pictures\n",
    "    \"\"\"\n",
    "    pics = defaultdict(int)\n",
    "    \n",
    "    while len(pics) < len(types):\n",
    "        pic_type = choice(types)\n",
    "        #print(pic_type)\n",
    "        pics[pic_type] += 1\n",
    "        \n",
    "    return sum(val for val in pics.values())\n",
    "            \n",
    "        "
   ]
  },
  {
   "cell_type": "code",
   "execution_count": null,
   "metadata": {},
   "outputs": [],
   "source": [
    "import random\n",
    "\n",
    "random.seed(123)"
   ]
  },
  {
   "cell_type": "code",
   "execution_count": null,
   "metadata": {},
   "outputs": [],
   "source": [
    "count_pictures(animal_types)"
   ]
  },
  {
   "cell_type": "code",
   "execution_count": null,
   "metadata": {},
   "outputs": [],
   "source": [
    "def expected_count_pictures(types, max_iterations = 100):\n",
    "    \"\"\"\n",
    "    Computes the expected number of pictures collected before having 1 of each type, by running a simulation.\n",
    "    \n",
    "    Args:\n",
    "        types (list): the different types of pictures available\n",
    "        max_iterations: maximum number of simulations to run\n",
    "        \n",
    "    Returns:\n",
    "        float: the average of the counts obtained over all simulations\n",
    "    \"\"\"\n",
    "    values = []\n",
    "    for _ in range(max_iterations):\n",
    "        values.append(count_pictures(types))\n",
    "        \n",
    "    return sum(values) / len(values)"
   ]
  },
  {
   "cell_type": "code",
   "execution_count": null,
   "metadata": {},
   "outputs": [],
   "source": [
    "expected_count_pictures(animal_types, max_iterations=10000)"
   ]
  }
 ],
 "metadata": {
  "kernelspec": {
   "display_name": "Python 3",
   "language": "python",
   "name": "python3"
  },
  "language_info": {
   "codemirror_mode": {
    "name": "ipython",
    "version": 3
   },
   "file_extension": ".py",
   "mimetype": "text/x-python",
   "name": "python",
   "nbconvert_exporter": "python",
   "pygments_lexer": "ipython3",
   "version": "3.7.6"
  }
 },
 "nbformat": 4,
 "nbformat_minor": 4
}
