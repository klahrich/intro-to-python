{
 "cells": [
  {
   "cell_type": "code",
   "execution_count": 3,
   "metadata": {},
   "outputs": [],
   "source": [
    "users = ['Hakim', 'Salima', 'Valerie', 'Michele']\n",
    "ages = [25, 16, 28, 19]"
   ]
  },
  {
   "cell_type": "code",
   "execution_count": 6,
   "metadata": {},
   "outputs": [],
   "source": [
    "def users_over_18(users, ages):\n",
    "    \"\"\"\n",
    "    Args:\n",
    "        users (list): list of user names\n",
    "        ages (list): list of user ages\n",
    "        \n",
    "    Returns:\n",
    "        list: list of name sof the users who are over 18\n",
    "    \"\"\"\n",
    "    return [name for name, age in zip(users, ages) if age > 18]"
   ]
  },
  {
   "cell_type": "code",
   "execution_count": null,
   "metadata": {},
   "outputs": [],
   "source": [
    "users_over_18(users, ages) # ['Hakim', 'Valerie', 'Michele']"
   ]
  }
 ],
 "metadata": {
  "kernelspec": {
   "display_name": "Python 3",
   "language": "python",
   "name": "python3"
  },
  "language_info": {
   "codemirror_mode": {
    "name": "ipython",
    "version": 3
   },
   "file_extension": ".py",
   "mimetype": "text/x-python",
   "name": "python",
   "nbconvert_exporter": "python",
   "pygments_lexer": "ipython3",
   "version": "3.7.6"
  }
 },
 "nbformat": 4,
 "nbformat_minor": 4
}
